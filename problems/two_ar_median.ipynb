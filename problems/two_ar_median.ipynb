{
 "cells": [
  {
   "cell_type": "code",
   "execution_count": 23,
   "metadata": {},
   "outputs": [],
   "source": [
    "class Solution:\n",
    "    def findMedianSortedArrays(self, nums1: [int], nums2: [int]) -> float:\n",
    "        self.nums1 = nums1\n",
    "        self.nums2 = nums2\n",
    "        max = -1\n",
    "        a = []\n",
    "        #for i in range (0, max):\n",
    "        #    if (i >= len(nums1)):\n",
    "        #        a.append(nums2[i])\n",
    "        #    else if (i >= len(nums2)):\n",
    "        #        a.append(nums1[i])\n",
    "        #    else:\n",
    "        #        if ()\n",
    "        i = 0\n",
    "        j = 0\n",
    "        while i < len(self.nums1) or j < len(self.nums2):\n",
    "            if i == len(self.nums1):\n",
    "                a.append(self.nums2[j])\n",
    "                j += 1\n",
    "            elif j == len(self.nums2):\n",
    "                a.append(self.nums1[i])\n",
    "                i += 1\n",
    "            else:\n",
    "                if self.nums1[i] > self.nums2[j]:\n",
    "                    a.append(self.nums2[j])\n",
    "                    j += 1\n",
    "                else:\n",
    "                    a.append(self.nums1[i])\n",
    "                    i += 1\n",
    "        lens = len(a)\n",
    "        if lens % 2 == 1:\n",
    "            answer = a[lens // 2]\n",
    "            return answer\n",
    "        else:\n",
    "            answer = (a[lens // 2] + a[(lens // 2) - 1]) / 2\n",
    "            return answer\n",
    "            \n",
    "            \n",
    "        \n",
    "        "
   ]
  },
  {
   "cell_type": "code",
   "execution_count": 24,
   "metadata": {},
   "outputs": [
    {
     "name": "stdout",
     "output_type": "stream",
     "text": [
      "2.5\n"
     ]
    }
   ],
   "source": [
    "s1 = [1,2]\n",
    "s2 = [3,4]\n",
    "a = Solution().findMedianSortedArrays(s1,s2)\n",
    "print(a)"
   ]
  },
  {
   "cell_type": "code",
   "execution_count": null,
   "metadata": {},
   "outputs": [],
   "source": []
  }
 ],
 "metadata": {
  "kernelspec": {
   "display_name": "Python 3",
   "language": "python",
   "name": "python3"
  },
  "language_info": {
   "codemirror_mode": {
    "name": "ipython",
    "version": 3
   },
   "file_extension": ".py",
   "mimetype": "text/x-python",
   "name": "python",
   "nbconvert_exporter": "python",
   "pygments_lexer": "ipython3",
   "version": "3.7.5"
  }
 },
 "nbformat": 4,
 "nbformat_minor": 2
}
