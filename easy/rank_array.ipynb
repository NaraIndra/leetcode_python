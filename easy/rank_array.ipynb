{
 "cells": [
  {
   "cell_type": "code",
   "execution_count": 75,
   "metadata": {},
   "outputs": [
    {
     "name": "stdout",
     "output_type": "stream",
     "text": [
      "[3, 3, 2, 1]\n"
     ]
    }
   ],
   "source": [
    "'''\n",
    "Given an array of integers arr, replace each element with its rank.\n",
    "\n",
    "The rank represents how large the element is. The rank has the following rules:\n",
    "\n",
    "Rank is an integer starting from 1.\n",
    "The larger the element, the larger the rank. If two elements are equal, their rank must be the same.\n",
    "Rank should be as small as possible.\n",
    " \n",
    "    Input: arr = [40,10,20,30]\n",
    "Output: [4,1,2,3]\n",
    "Explanation: 40 is the largest element. 10 is the smallest. 20 is the second smallest. 30 is the third smallest.\n",
    "\n",
    "Input: arr = [100,100,100]\n",
    "Output: [1,1,1]\n",
    "Explanation: Same elements share the same rank.\n",
    "    \n",
    "    Input: arr = [37,12,28,9,100,56,80,5,12]\n",
    "Output: [5,3,4,2,8,6,7,1,3]\n",
    "'''\n",
    "class Solution:\n",
    "    def arrayRankTransform(self, arr):\n",
    "        b = arr.copy()\n",
    "        b.sort()\n",
    "        c = dict.fromkeys(arr, 6)\n",
    "        k = 0\n",
    "        for idx, val in enumerate (b):\n",
    "            if idx == 0:\n",
    "                k = k + 1\n",
    "            elif b[idx] != b[idx - 1]:\n",
    "                k = k + 1\n",
    "            c[val] = k\n",
    "        for i in range(0,len(b)):\n",
    "            arr[i] = c[arr[i]]\n",
    "        return arr\n",
    "sol = Solution\n",
    "a = [2,2,0,-1]\n",
    "b = Solution.arrayRankTransform(sol,a)\n",
    "print(a)\n"
   ]
  },
  {
   "cell_type": "code",
   "execution_count": null,
   "metadata": {},
   "outputs": [],
   "source": []
  },
  {
   "cell_type": "code",
   "execution_count": null,
   "metadata": {},
   "outputs": [],
   "source": []
  }
 ],
 "metadata": {
  "kernelspec": {
   "display_name": "Python 3",
   "language": "python",
   "name": "python3"
  },
  "language_info": {
   "codemirror_mode": {
    "name": "ipython",
    "version": 3
   },
   "file_extension": ".py",
   "mimetype": "text/x-python",
   "name": "python",
   "nbconvert_exporter": "python",
   "pygments_lexer": "ipython3",
   "version": "3.7.6"
  }
 },
 "nbformat": 4,
 "nbformat_minor": 2
}
