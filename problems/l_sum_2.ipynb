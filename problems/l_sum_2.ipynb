{
 "cells": [
  {
   "cell_type": "code",
   "execution_count": 13,
   "metadata": {},
   "outputs": [],
   "source": [
    "class Solution:\n",
    "    def twoSum(self, nums: [int], target: int) -> [int]:\n",
    "        self.nums = nums\n",
    "        self.target = target\n",
    "        templist1 = self.nums[:]\n",
    "        templist1.sort()\n",
    "        templist2 = templist1[:]\n",
    "        for i in range(0, len(templist2)):\n",
    "            templist2[i] = self.target - templist2[i]\n",
    "        num1 = 0\n",
    "        num2 = 0\n",
    "        i = 0\n",
    "        t = len(templist1) - 1\n",
    "        while 1:\n",
    "            if templist2[i] == templist1[t]:\n",
    "                num2 = templist2[i]\n",
    "                num1 = self.target - templist2[i]\n",
    "                break;\n",
    "            elif templist2[i] > templist1[t]:\n",
    "                print(\"111\")\n",
    "                i += 1;\n",
    "            elif templist2[i] < templist1[t]:\n",
    "                print(\"222\")\n",
    "                t -= 1;\n",
    "            print(\"after all\")\n",
    "            print(i,t)\n",
    "        j = 0\n",
    "        index1 = -1\n",
    "        index2 = -1\n",
    "        while j < len(self.nums):\n",
    "            if (self.nums[j] == num1):\n",
    "                index1 = j\n",
    "                break\n",
    "            j += 1\n",
    "        for i, num in enumerate(self.nums):\n",
    "            print(index1, i)\n",
    "            if num == num2 and i != index1:\n",
    "                index2 = i\n",
    "                print(\"index2\", index2)\n",
    "        if index1 > index2:\n",
    "            index1, index2 = index2, index1\n",
    "        return [index1, index2]"
   ]
  },
  {
   "cell_type": "code",
   "execution_count": 14,
   "metadata": {},
   "outputs": [
    {
     "name": "stdout",
     "output_type": "stream",
     "text": [
      "[2, 7, 11, 15]\n",
      "[7, 2, -2, -6]\n",
      "ti:\n",
      "3\n",
      "!!!\n",
      "0 3\n",
      "7 15\n",
      "!!!\n",
      "222\n",
      "after all\n",
      "0 2\n",
      "!!!\n",
      "0 2\n",
      "7 11\n",
      "!!!\n",
      "222\n",
      "after all\n",
      "0 1\n",
      "!!!\n",
      "0 1\n",
      "7 7\n",
      "!!!\n",
      "0 0\n",
      "0 1\n",
      "index2 1\n",
      "0 2\n",
      "0 3\n",
      "[0, 1]\n"
     ]
    }
   ],
   "source": [
    "a = [2,7,11,15]\n",
    "b = 9\n",
    "c = Solution().twoSum(a,b)\n",
    "print(c)"
   ]
  },
  {
   "cell_type": "code",
   "execution_count": null,
   "metadata": {},
   "outputs": [],
   "source": []
  },
  {
   "cell_type": "code",
   "execution_count": null,
   "metadata": {},
   "outputs": [],
   "source": []
  }
 ],
 "metadata": {
  "kernelspec": {
   "display_name": "Python 3",
   "language": "python",
   "name": "python3"
  },
  "language_info": {
   "codemirror_mode": {
    "name": "ipython",
    "version": 3
   },
   "file_extension": ".py",
   "mimetype": "text/x-python",
   "name": "python",
   "nbconvert_exporter": "python",
   "pygments_lexer": "ipython3",
   "version": "3.7.5"
  }
 },
 "nbformat": 4,
 "nbformat_minor": 2
}
